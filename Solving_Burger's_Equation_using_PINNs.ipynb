{
  "nbformat": 4,
  "nbformat_minor": 0,
  "metadata": {
    "colab": {
      "provenance": [],
      "gpuType": "T4"
    },
    "kernelspec": {
      "name": "python3",
      "display_name": "Python 3"
    },
    "language_info": {
      "name": "python"
    },
    "accelerator": "GPU"
  },
  "cells": [
    {
      "cell_type": "markdown",
      "source": [
        "**Setting up the notebook with all dependencies**"
      ],
      "metadata": {
        "id": "jaJ8I-sxsm5n"
      }
    },
    {
      "cell_type": "code",
      "execution_count": null,
      "metadata": {
        "id": "jZDWe9XxYHQ-"
      },
      "outputs": [],
      "source": [
        "\n",
        "import numpy as np\n",
        "import matplotlib.pyplot as plt\n",
        "from mpl_toolkits.axes_grid1 import make_axes_locatable\n",
        "\n",
        "import torch\n",
        "import torch.nn as nn\n",
        "import numpy as np\n",
        "from random import uniform"
      ]
    },
    {
      "cell_type": "markdown",
      "source": [
        "**Defining the Neural Network architechture**"
      ],
      "metadata": {
        "id": "eQLKIsoJstDr"
      }
    },
    {
      "cell_type": "code",
      "source": [
        "#NeuralNetwork class is used to define the model architechture, forward pass\n",
        "\n",
        "class NeuralNetwork(nn.Module):\n",
        "    def __init__(self):\n",
        "        super(NeuralNetwork, self).__init__()\n",
        "        self.fc1 = nn.Linear(2, 20)\n",
        "        self.fc2 = nn.Linear(20, 20)\n",
        "        self.fc3 = nn.Linear(20, 20)\n",
        "        self.fc4 = nn.Linear(20, 20)\n",
        "        self.fc5 = nn.Linear(20, 20)\n",
        "        self.fc6 = nn.Linear(20, 20)\n",
        "        self.fc7 = nn.Linear(20, 20)\n",
        "        self.fc8 = nn.Linear(20, 20)\n",
        "        self.fc9 = nn.Linear(20, 20)\n",
        "        self.fc10 = nn.Linear(20, 1)\n",
        "        self.tanh = nn.Tanh()\n",
        "\n",
        "    def forward(self, x):\n",
        "        x = self.tanh(self.fc1(x))\n",
        "        x = self.tanh(self.fc2(x))\n",
        "        x = self.tanh(self.fc3(x))\n",
        "        x = self.tanh(self.fc4(x))\n",
        "        x = self.tanh(self.fc5(x))\n",
        "        x = self.tanh(self.fc6(x))\n",
        "        x = self.tanh(self.fc7(x))\n",
        "        x = self.tanh(self.fc8(x))\n",
        "        x = self.tanh(self.fc9(x))\n",
        "        x = self.fc10(x)\n",
        "        return x"
      ],
      "metadata": {
        "id": "5T-BpgZeZUNk"
      },
      "execution_count": null,
      "outputs": []
    },
    {
      "cell_type": "markdown",
      "source": [
        "**Encapsulating the funcionalities of PINN inside a PhysicsInformedNN class**"
      ],
      "metadata": {
        "id": "tvp7XQhRs6KW"
      }
    },
    {
      "cell_type": "code",
      "source": [
        "#Defining the Physics Informed Neural Network\n",
        "\n",
        "class PhysicsInformedNN():\n",
        "    def __init__(self, X_u, u, X_f):\n",
        "        # x & t from boundary conditions:\n",
        "        self.x_u = torch.tensor(X_u[:, 0].reshape(-1, 1),\n",
        "                                dtype=torch.float32,\n",
        "                                requires_grad=True)\n",
        "        self.t_u = torch.tensor(X_u[:, 1].reshape(-1, 1),\n",
        "                                dtype=torch.float32,\n",
        "                                requires_grad=True)\n",
        "\n",
        "        # x & t from collocation points:\n",
        "        self.x_f = torch.tensor(X_f[:, 0].reshape(-1, 1),\n",
        "                                dtype=torch.float32,\n",
        "                                requires_grad=True)\n",
        "        self.t_f = torch.tensor(X_f[:, 1].reshape(-1, 1),\n",
        "                                dtype=torch.float32,\n",
        "                                requires_grad=True)\n",
        "\n",
        "        # boundary solution:\n",
        "        self.u = torch.tensor(u, dtype=torch.float32)\n",
        "\n",
        "        # null vector to test against f:\n",
        "        self.null = torch.zeros((self.x_f.shape[0], 1))\n",
        "\n",
        "        # initialize net:\n",
        "        self.net = NeuralNetwork()\n",
        "\n",
        "        # this optimizer updates the weights and biases of the net:\n",
        "        self.optimizer = torch.optim.LBFGS(self.net.parameters(),\n",
        "                                           lr=1,\n",
        "                                           max_iter=50000,\n",
        "                                           max_eval=50000,\n",
        "                                           history_size=50,\n",
        "                                           tolerance_grad=1e-06,\n",
        "                                           tolerance_change=0.5 * np.finfo(float).eps,\n",
        "                                           line_search_fn=\"strong_wolfe\")\n",
        "\n",
        "        # typical MSE loss (this is a function):\n",
        "        self.loss = nn.MSELoss()\n",
        "\n",
        "        # loss :\n",
        "        self.ls = 0\n",
        "\n",
        "        # iteration number:\n",
        "        self.iter = 0\n",
        "\n",
        "    def net_u(self, x, t):\n",
        "        u = self.net(torch.cat((x, t), dim=1))\n",
        "        return u\n",
        "        #The neural network will learn the function u basically\n",
        "\n",
        "    def net_f(self, x, t):\n",
        "        u = self.net_u(x, t)\n",
        "\n",
        "        u_t = torch.autograd.grad(\n",
        "            u, t,\n",
        "            grad_outputs=torch.ones_like(u),\n",
        "            retain_graph=True,\n",
        "            create_graph=True)[0]\n",
        "\n",
        "        u_x = torch.autograd.grad(\n",
        "            u, x,\n",
        "            grad_outputs=torch.ones_like(u),\n",
        "            retain_graph=True,\n",
        "            create_graph=True)[0]\n",
        "\n",
        "        u_xx = torch.autograd.grad(\n",
        "            u_x, x,\n",
        "            grad_outputs=torch.ones_like(u_x),\n",
        "            retain_graph=True,\n",
        "            create_graph=True)[0]\n",
        "\n",
        "        nu = 0.01 / np.pi  # constant in the diff. equation\n",
        "        f = u_t + (u * u_x) - (nu * u_xx)\n",
        "\n",
        "        return f\n",
        "        #Calculating f function with the help of u and derivatives of u\n",
        "\n",
        "    def plot(self):\n",
        "        \"\"\" plot the solution on new data \"\"\"\n",
        "\n",
        "        x = torch.linspace(-1, 1, 200)\n",
        "        t = torch.linspace(0, 1, 100)\n",
        "\n",
        "        # x & t grids:\n",
        "        X, T = torch.meshgrid(x, t)\n",
        "\n",
        "        # x & t columns:\n",
        "        xcol = X.reshape(-1, 1)\n",
        "        tcol = T.reshape(-1, 1)\n",
        "\n",
        "        # one large column:\n",
        "        usol = self.net_u(xcol, tcol)\n",
        "\n",
        "        # reshape solution:\n",
        "        U = usol.reshape(x.numel(), t.numel())\n",
        "\n",
        "        # transform to numpy:\n",
        "        xnp = x.numpy()\n",
        "        tnp = t.numpy()\n",
        "        Unp = U.detach().numpy()\n",
        "\n",
        "        # plot:\n",
        "        fig = plt.figure(figsize=(9, 4.5))\n",
        "        ax = fig.add_subplot(111)\n",
        "\n",
        "        h = ax.imshow(Unp,\n",
        "                      interpolation='nearest',\n",
        "                      cmap='rainbow',\n",
        "                      extent=[tnp.min(), tnp.max(), xnp.min(), xnp.max()],\n",
        "                      origin='lower', aspect='auto')\n",
        "\n",
        "        plt.xlabel('t')\n",
        "        plt.ylabel('x')\n",
        "        plt.title('u(x,t)', fontsize = 10)\n",
        "\n",
        "        divider = make_axes_locatable(ax)\n",
        "        cax = divider.append_axes(\"right\", size=\"5%\", pad=0.10)\n",
        "        cbar = fig.colorbar(h, cax=cax)\n",
        "        cbar.ax.tick_params(labelsize=10)\n",
        "        plt.show()\n",
        "\n",
        "    def closure(self):\n",
        "        # reset gradients to zero:\n",
        "        self.optimizer.zero_grad()\n",
        "\n",
        "        # u & f predictions:\n",
        "        u_prediction = self.net_u(self.x_u, self.t_u)\n",
        "        f_prediction = self.net_f(self.x_f, self.t_f)\n",
        "\n",
        "        # losses:\n",
        "        u_loss = self.loss(u_prediction, self.u)\n",
        "        f_loss = self.loss(f_prediction, self.null)\n",
        "        self.ls = u_loss + f_loss\n",
        "\n",
        "        # derivative with respect to net's weights:\n",
        "        self.ls.backward()\n",
        "\n",
        "        # increase iteration count:\n",
        "        self.iter += 1\n",
        "\n",
        "        # print report:\n",
        "        if not self.iter % 100:\n",
        "            print('Epoch: {0:}, Loss: {1:6.9f}'.format(self.iter, self.ls))\n",
        "\n",
        "        return self.ls\n",
        "\n",
        "    def train(self):\n",
        "        \"\"\" training loop \"\"\"\n",
        "        self.net.train()\n",
        "        self.optimizer.step(self.closure)"
      ],
      "metadata": {
        "id": "3DxUzhoEZYZY"
      },
      "execution_count": null,
      "outputs": []
    },
    {
      "cell_type": "markdown",
      "source": [
        "**Generating training data**"
      ],
      "metadata": {
        "id": "euDMvCn_tGIW"
      }
    },
    {
      "cell_type": "code",
      "source": [
        "#Defining a function to generate the training points\n",
        "#When we say training data, We just mean sampled points\n",
        "#For both boundary conditions and collocation points\n",
        "\n",
        "def generate_data():\n",
        "\n",
        "    N_u = 100  # number of data points in the boundaries\n",
        "    N_f = 10000  # number of collocation points\n",
        "\n",
        "    # X_u_train: a set of pairs (x, t) located at:\n",
        "    # x =  1, t = [0,  1]\n",
        "    # x = -1, t = [0,  1]\n",
        "    # t =  0, x = [-1, 1]\n",
        "\n",
        "    #For boundary points\n",
        "    #Defining the helper variables in sampling the training boundary points\n",
        "\n",
        "    x_upper = np.ones((N_u // 4, 1), dtype=float)\n",
        "    x_lower = np.ones((N_u // 4, 1), dtype=float) * (-1)\n",
        "    t_zero = np.zeros((N_u // 2, 1), dtype=float)\n",
        "\n",
        "    #Sampling random numbers between 0 and 1\n",
        "\n",
        "    t_upper = np.random.rand(N_u // 4, 1)\n",
        "    t_lower = np.random.rand(N_u // 4, 1)\n",
        "    x_zero = (-1) + np.random.rand(N_u // 2, 1) * (1 - (-1))\n",
        "\n",
        "    #Combining different xs and ts\n",
        "\n",
        "    X_upper = np.hstack((x_upper, t_upper)) #x= +1 , t=[0,1]\n",
        "    X_lower = np.hstack((x_lower, t_lower)) #x= -1 , t=[0,1]\n",
        "    X_zero = np.hstack((x_zero, t_zero))    #x[-1,1], t=0\n",
        "\n",
        "    #Combining them vertically, We get X_u_train which represents training data for boundary points\n",
        "\n",
        "    X_u_train = np.vstack((X_upper, X_lower, X_zero))\n",
        "\n",
        "    #Shuffling X_u_train:\n",
        "\n",
        "    index = np.arange(0, N_u)\n",
        "    np.random.shuffle(index)\n",
        "    X_u_train = X_u_train[index, :]\n",
        "\n",
        "    #Making X_f_train\n",
        "    #For collocation points\n",
        "    #Defining the helper variables in sampling the training collocation points\n",
        "    X_f_train = np.zeros((N_f, 2), dtype=float)\n",
        "    for row in range(N_f):\n",
        "\n",
        "        x = uniform(-1, 1)  # x range\n",
        "        t = uniform(0, 1)  # t range\n",
        "\n",
        "        #Basically x=[-1,1] , t=[0,1]\n",
        "\n",
        "        X_f_train[row, 0] = x\n",
        "        X_f_train[row, 1] = t\n",
        "\n",
        "    #Now, What if we just combined boundary points and collocation points and getting the whole training points(data) ready\n",
        "    # add the boundary points to the collocation points:\n",
        "    X_f_train = np.vstack((X_f_train, X_u_train))\n",
        "\n",
        "    #Making training data for u(0, x) = -sin(pie * x)\n",
        "    #Calling it U_train data\n",
        "\n",
        "    u_upper = np.zeros((N_u // 4, 1), dtype=float)\n",
        "    u_lower = np.zeros((N_u // 4, 1), dtype=float)\n",
        "    u_zero = -np.sin(np.pi * x_zero)\n",
        "\n",
        "    #Stacking them in the same order as X_u_train\n",
        "    u_train = np.vstack((u_upper, u_lower, u_zero))\n",
        "\n",
        "    #Matching the index with X_u_train\n",
        "    u_train = u_train[index, :]\n",
        "\n",
        "    return(X_u_train, u_train, X_f_train)"
      ],
      "metadata": {
        "id": "8VnullFSZpif"
      },
      "execution_count": null,
      "outputs": []
    },
    {
      "cell_type": "code",
      "source": [
        "#Calling the function to generate the training points\n",
        "\n",
        "X_u_train, u_train, X_f_train=generate_data()"
      ],
      "metadata": {
        "id": "tXOYFiTzeLBZ"
      },
      "execution_count": null,
      "outputs": []
    },
    {
      "cell_type": "markdown",
      "source": [
        "**Training the network**"
      ],
      "metadata": {
        "id": "wVngF98VtTS7"
      }
    },
    {
      "cell_type": "code",
      "source": [
        "#Putting it all together and then training the model:\n",
        "\n",
        "pinn = PhysicsInformedNN(X_u_train, u_train, X_f_train)\n",
        "\n",
        "pinn.train()"
      ],
      "metadata": {
        "colab": {
          "base_uri": "https://localhost:8080/"
        },
        "id": "sQYEowpbZ2NH",
        "outputId": "1ae69906-4da5-4464-a158-83a53e80fc30"
      },
      "execution_count": null,
      "outputs": [
        {
          "output_type": "stream",
          "name": "stdout",
          "text": [
            "Epoch: 100, Loss: 0.201396972\n",
            "Epoch: 200, Loss: 0.054133855\n",
            "Epoch: 300, Loss: 0.029702269\n",
            "Epoch: 400, Loss: 0.018336952\n",
            "Epoch: 500, Loss: 0.013318390\n",
            "Epoch: 600, Loss: 0.011347713\n",
            "Epoch: 700, Loss: 0.013281081\n",
            "Epoch: 800, Loss: 0.007159049\n",
            "Epoch: 900, Loss: 0.006021230\n",
            "Epoch: 1000, Loss: 0.005074786\n",
            "Epoch: 1100, Loss: 0.004621484\n",
            "Epoch: 1200, Loss: 0.004013757\n",
            "Epoch: 1300, Loss: 0.003600315\n",
            "Epoch: 1400, Loss: 0.003130734\n",
            "Epoch: 1500, Loss: 0.002857574\n",
            "Epoch: 1600, Loss: 0.002571999\n",
            "Epoch: 1700, Loss: 0.002262658\n",
            "Epoch: 1800, Loss: 0.001972690\n",
            "Epoch: 1900, Loss: 0.001740552\n",
            "Epoch: 2000, Loss: 0.001551348\n",
            "Epoch: 2100, Loss: 0.001333606\n",
            "Epoch: 2200, Loss: 0.001168299\n",
            "Epoch: 2300, Loss: 0.001050115\n",
            "Epoch: 2400, Loss: 0.000944447\n",
            "Epoch: 2500, Loss: 0.000851935\n",
            "Epoch: 2600, Loss: 0.000788363\n",
            "Epoch: 2700, Loss: 0.000697837\n",
            "Epoch: 2800, Loss: 0.000621018\n",
            "Epoch: 2900, Loss: 0.000566859\n",
            "Epoch: 3000, Loss: 0.000498107\n",
            "Epoch: 3100, Loss: 0.000457536\n",
            "Epoch: 3200, Loss: 0.000407475\n",
            "Epoch: 3300, Loss: 0.000376566\n",
            "Epoch: 3400, Loss: 0.000317262\n",
            "Epoch: 3500, Loss: 0.000267030\n",
            "Epoch: 3600, Loss: 0.000227163\n",
            "Epoch: 3700, Loss: 0.000187433\n",
            "Epoch: 3800, Loss: 0.000169171\n",
            "Epoch: 3900, Loss: 0.000151102\n",
            "Epoch: 4000, Loss: 0.000139935\n",
            "Epoch: 4100, Loss: 0.000125978\n",
            "Epoch: 4200, Loss: 0.000117727\n",
            "Epoch: 4300, Loss: 0.000110058\n",
            "Epoch: 4400, Loss: 0.000103235\n",
            "Epoch: 4500, Loss: 0.000093887\n",
            "Epoch: 4600, Loss: 0.000083347\n",
            "Epoch: 4700, Loss: 0.000075581\n",
            "Epoch: 4800, Loss: 0.000071510\n",
            "Epoch: 4900, Loss: 0.000068016\n",
            "Epoch: 5000, Loss: 0.000065835\n",
            "Epoch: 5100, Loss: 0.000063258\n",
            "Epoch: 5200, Loss: 0.000060453\n",
            "Epoch: 5300, Loss: 0.000057121\n",
            "Epoch: 5400, Loss: 0.000054113\n",
            "Epoch: 5500, Loss: 0.000051269\n",
            "Epoch: 5600, Loss: 0.000049009\n",
            "Epoch: 5700, Loss: 0.000046460\n",
            "Epoch: 5800, Loss: 0.000044122\n"
          ]
        }
      ]
    },
    {
      "cell_type": "markdown",
      "source": [
        "**Plotting the result**"
      ],
      "metadata": {
        "id": "oI7dfT1jtXBy"
      }
    },
    {
      "cell_type": "code",
      "source": [
        "#Plotting the result\n",
        "\n",
        "pinn.plot()"
      ],
      "metadata": {
        "colab": {
          "base_uri": "https://localhost:8080/",
          "height": 503
        },
        "id": "F3nZVEz3bhKP",
        "outputId": "1e65a7eb-607f-4e1c-9c5d-806a9c2448cb"
      },
      "execution_count": null,
      "outputs": [
        {
          "output_type": "stream",
          "name": "stderr",
          "text": [
            "/usr/local/lib/python3.10/dist-packages/torch/functional.py:504: UserWarning: torch.meshgrid: in an upcoming release, it will be required to pass the indexing argument. (Triggered internally at ../aten/src/ATen/native/TensorShape.cpp:3483.)\n",
            "  return _VF.meshgrid(tensors, **kwargs)  # type: ignore[attr-defined]\n"
          ]
        },
        {
          "output_type": "display_data",
          "data": {
            "text/plain": [
              "<Figure size 900x450 with 2 Axes>"
            ],
            "image/png": "[encoded data removed]"
          },
          "metadata": {}
        }
      ]
    }
  ]
}